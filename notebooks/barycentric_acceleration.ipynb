{
 "cells": [
  {
   "cell_type": "markdown",
   "id": "ae1abb27",
   "metadata": {},
   "source": [
    "# Quasar proper motions and barycentric acceleration\n",
    "This notebook is part of the *DoCrimes* project <https://github.com/davidwhogg/DoCrimes>.\n",
    "\n",
    "## Authors\n",
    "- **David W. Hogg** (NYU) (MPIA) (Flatiron)\n",
    "\n",
    "## License\n",
    "- This code is licensed for re-use under the open-source *MIT License*. See the file `LICENSE` for more information.\n",
    "\n",
    "## To-do items and bugs:\n",
    "- Get pms and parallaxes.\n",
    "- Make relevant plots."
   ]
  },
  {
   "cell_type": "code",
   "execution_count": null,
   "id": "cbd2e00a",
   "metadata": {},
   "outputs": [],
   "source": [
    "import numpy as np\n",
    "from astropy.io import fits\n",
    "from astropy.table import QTable\n",
    "import pylab as plt"
   ]
  },
  {
   "cell_type": "code",
   "execution_count": null,
   "id": "c7657939",
   "metadata": {},
   "outputs": [],
   "source": [
    "# Read the quasar catalog.\n",
    "datafd = fits.open(\"../data/gaia_G20.0.fits\") # terrible file path\n",
    "data_table = QTable(datafd[1].data)\n",
    "print(len(data_table))\n",
    "print(data_table.colnames)"
   ]
  },
  {
   "cell_type": "code",
   "execution_count": null,
   "id": "89aca4d1",
   "metadata": {},
   "outputs": [],
   "source": []
  }
 ],
 "metadata": {
  "kernelspec": {
   "display_name": "Python 3 (ipykernel)",
   "language": "python",
   "name": "python3"
  },
  "language_info": {
   "codemirror_mode": {
    "name": "ipython",
    "version": 3
   },
   "file_extension": ".py",
   "mimetype": "text/x-python",
   "name": "python",
   "nbconvert_exporter": "python",
   "pygments_lexer": "ipython3",
   "version": "3.9.12"
  }
 },
 "nbformat": 4,
 "nbformat_minor": 5
}
