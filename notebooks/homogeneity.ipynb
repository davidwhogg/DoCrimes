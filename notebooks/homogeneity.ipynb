{
 "cells": [
  {
   "cell_type": "code",
   "execution_count": null,
   "id": "c393e7a6",
   "metadata": {},
   "outputs": [],
   "source": [
    "import numpy as np\n",
    "from scipy.spatial import KDTree\n",
    "from astropy.io import fits\n",
    "from astropy.table import QTable\n",
    "from astropy import units as u\n",
    "from astropy.coordinates import SkyCoord\n",
    "from astropy.cosmology import Planck18\n",
    "import pylab as plt"
   ]
  },
  {
   "cell_type": "code",
   "execution_count": null,
   "id": "86f6dfd3",
   "metadata": {},
   "outputs": [],
   "source": [
    "rng = np.random.default_rng(17)"
   ]
  },
  {
   "cell_type": "code",
   "execution_count": null,
   "id": "5a5b31f0",
   "metadata": {},
   "outputs": [],
   "source": [
    "datafd = fits.open(\"../data/gaia_G20.0.fits\") # note terrible file path\n",
    "data_table = QTable(datafd[1].data)\n",
    "print(len(data_table))"
   ]
  },
  {
   "cell_type": "code",
   "execution_count": null,
   "id": "f0eefa38",
   "metadata": {},
   "outputs": [],
   "source": [
    "randfd = fits.open(\"../data/random_stardustm1064_G20.0_10x.fits\") # note terrible file path\n",
    "rand_table = QTable(randfd[1].data)\n",
    "print(len(rand_table))"
   ]
  },
  {
   "cell_type": "code",
   "execution_count": null,
   "id": "51630468",
   "metadata": {},
   "outputs": [],
   "source": [
    "# cut everything by the dust map\n",
    "ebvlim = 0.05\n",
    "Id = data_table['ebv'] < ebvlim\n",
    "data_table = data_table[Id]\n",
    "Ir = rand_table['ebv'] < ebvlim\n",
    "rand_table = rand_table[Ir]"
   ]
  },
  {
   "cell_type": "code",
   "execution_count": null,
   "id": "62cba880",
   "metadata": {},
   "outputs": [],
   "source": [
    "# Add l, b to the random catalog.\n",
    "# WARNING: This might be inconsistent with how l, b are calculated in the data table.\n",
    "randc = SkyCoord(ra=rand_table['ra']*u.degree, dec=rand_table['dec']*u.degree, frame='icrs')\n",
    "rand_table['l'] = randc.galactic.l.to(u.deg).value\n",
    "rand_table['b'] = randc.galactic.b.to(u.deg).value"
   ]
  },
  {
   "cell_type": "code",
   "execution_count": null,
   "id": "41aeef6c",
   "metadata": {},
   "outputs": [],
   "source": [
    "# make two hemsisphere samples\n",
    "dhi, dlo = data_table['b'] > 0., data_table['b'] < 0.\n",
    "rhi, rlo = rand_table['b'] > 0., rand_table['b'] < 0."
   ]
  },
  {
   "cell_type": "code",
   "execution_count": null,
   "id": "b9ed9305",
   "metadata": {},
   "outputs": [],
   "source": [
    "for I in [dhi, dlo]:\n",
    "    plt.scatter(data_table['ra'][I], data_table['dec'][I],\n",
    "                marker=\".\", s=0.1, alpha=0.1)\n",
    "plt.figure()\n",
    "for I in [rhi, rlo]:\n",
    "    plt.scatter(rand_table['ra'][I], rand_table['dec'][I],\n",
    "                marker=\".\", s=0.1, alpha=0.1)"
   ]
  },
  {
   "cell_type": "code",
   "execution_count": null,
   "id": "f47c1915",
   "metadata": {},
   "outputs": [],
   "source": [
    "for I in [dhi, dlo]:\n",
    "    plt.scatter(data_table['l'][I], np.sin(data_table['b'][I] * np.pi / 180.),\n",
    "                marker=\".\", s=0.1, alpha=0.1)\n",
    "plt.figure()\n",
    "for I in [rhi, rlo]:\n",
    "    plt.scatter(rand_table['l'][I], np.sin(rand_table['b'][I] * np.pi / 180.),\n",
    "                marker=\".\", s=0.1, alpha=0.1)"
   ]
  },
  {
   "cell_type": "code",
   "execution_count": null,
   "id": "95688554",
   "metadata": {},
   "outputs": [],
   "source": [
    "factor = len(data_table) / len(rand_table)"
   ]
  },
  {
   "cell_type": "code",
   "execution_count": null,
   "id": "b5335ead",
   "metadata": {},
   "outputs": [],
   "source": [
    "bins = np.arange(0., 4.501, 0.1)\n",
    "bincntrs = 0.5 * (bins[1:] + bins[:-1])\n",
    "binwids = (bins[1:] - bins[:-1])\n",
    "nzhi, _ = np.histogram(data_table['redshift_spz'][dhi], bins)\n",
    "nzhi = nzhi.astype(float) / (np.sum(rhi) * factor) / binwids\n",
    "nzlo, _ = np.histogram(data_table['redshift_spz'][dlo], bins)\n",
    "nzlo = nzlo.astype(float) / (np.sum(rlo) * factor) / binwids"
   ]
  },
  {
   "cell_type": "code",
   "execution_count": null,
   "id": "5882b3b5",
   "metadata": {},
   "outputs": [],
   "source": [
    "plt.plot(bincntrs, nzhi, \"o\")\n",
    "plt.plot(bincntrs, nzlo, \"o\")"
   ]
  },
  {
   "cell_type": "code",
   "execution_count": null,
   "id": "98924ccc",
   "metadata": {},
   "outputs": [],
   "source": [
    "# give the random points redshifts\n",
    "rand_table['redshift_spz'] = rng.choice(data_table['redshift_spz'],\n",
    "                                        size=len(rand_table), replace=True)"
   ]
  },
  {
   "cell_type": "code",
   "execution_count": null,
   "id": "53ff685d",
   "metadata": {},
   "outputs": [],
   "source": [
    "data_table['comoving_distance'] = Planck18.comoving_distance(data_table['redshift_spz']).value\n",
    "rand_table['comoving_distance'] = Planck18.comoving_distance(rand_table['redshift_spz']).value"
   ]
  },
  {
   "cell_type": "code",
   "execution_count": null,
   "id": "e00aaa79",
   "metadata": {},
   "outputs": [],
   "source": [
    "def add_xyz(table):\n",
    "    r = table['comoving_distance']\n",
    "    cb = np.cos(table['b'] * np.pi / 180.)\n",
    "    x = r * cb * np.cos(table['l'] * np.pi / 180.)\n",
    "    y = r * cb * np.sin(table['l'] * np.pi / 180.)\n",
    "    z = r * np.sin(table['b'] * np.pi / 180.)\n",
    "    table['xyz'] = np.array([x, y, z]).T\n",
    "    return\n",
    "\n",
    "add_xyz(data_table)\n",
    "add_xyz(rand_table)"
   ]
  },
  {
   "cell_type": "code",
   "execution_count": null,
   "id": "2d1fa3f9",
   "metadata": {},
   "outputs": [],
   "source": [
    "for I in [dhi, dlo]:\n",
    "    plt.scatter(data_table['xyz'][I,0], data_table['xyz'][I,2],\n",
    "                marker=\".\", s=0.1, alpha=0.1)\n",
    "plt.figure()\n",
    "for I in [dhi, dlo]:\n",
    "    plt.scatter(data_table['xyz'][I,1], data_table['xyz'][I,2],\n",
    "                marker=\".\", s=0.1, alpha=0.1)"
   ]
  },
  {
   "cell_type": "code",
   "execution_count": null,
   "id": "63660270",
   "metadata": {},
   "outputs": [],
   "source": [
    "data_tree = KDTree(data_table['xyz'])\n",
    "dhi_tree = KDTree(data_table['xyz'][dhi])\n",
    "dlo_tree = KDTree(data_table['xyz'][dlo])\n",
    "rand_tree = KDTree(rand_table['xyz'])\n",
    "rhi_tree = KDTree(rand_table['xyz'][rhi])\n",
    "rlo_tree = KDTree(rand_table['xyz'][rlo])"
   ]
  },
  {
   "cell_type": "code",
   "execution_count": null,
   "id": "6250d384",
   "metadata": {},
   "outputs": [],
   "source": [
    "rs = np.exp(np.arange(np.log(10.), np.log(500.), 0.25))\n",
    "DD_hi = dhi_tree.count_neighbors(data_tree, rs).astype(float)\n",
    "DD_lo = dlo_tree.count_neighbors(data_tree, rs).astype(float)"
   ]
  },
  {
   "cell_type": "code",
   "execution_count": null,
   "id": "eb69ba50",
   "metadata": {},
   "outputs": [],
   "source": [
    "# Make DR counts (symmetrically)\n",
    "DR_hi = 0.5 * factor * (dhi_tree.count_neighbors(rand_tree, rs)\n",
    "                      + rhi_tree.count_neighbors(data_tree, rs)).astype(float)\n",
    "DR_lo = 0.5 * factor * (dlo_tree.count_neighbors(rand_tree, rs)\n",
    "                      + rlo_tree.count_neighbors(data_tree, rs)).astype(float)"
   ]
  },
  {
   "cell_type": "code",
   "execution_count": null,
   "id": "9fa7896b",
   "metadata": {},
   "outputs": [],
   "source": [
    "# make RR counts\n",
    "RR_hi = factor ** 2 * rhi_tree.count_neighbors(rand_tree, rs).astype(float)\n",
    "RR_lo = factor ** 2 * rlo_tree.count_neighbors(rand_tree, rs).astype(float)"
   ]
  },
  {
   "cell_type": "code",
   "execution_count": null,
   "id": "9760948e",
   "metadata": {},
   "outputs": [],
   "source": [
    "plt.plot(rs, DD_hi, \"o\", label=\"DD counts, NGC\")\n",
    "plt.plot(rs, DR_hi, \"o\", color=\"blue\", alpha=0.25, label=\"DR counts, NGC\")\n",
    "plt.plot(rs, RR_hi, \"o\", color=\"blue\", alpha=0.1, label=\"RR counts, NGC\")\n",
    "plt.plot(rs, DD_lo, \"o\", label=\"DD counts, SGC\")\n",
    "plt.plot(rs, DR_lo, \"o\", color=\"orange\", alpha=0.25, label=\"DR counts, SGC\")\n",
    "plt.plot(rs, RR_lo, \"o\", color=\"orange\", alpha=0.1, label=\"RR counts, SGC\")\n",
    "plt.loglog()\n",
    "plt.legend()"
   ]
  },
  {
   "cell_type": "code",
   "execution_count": null,
   "id": "bce7b340",
   "metadata": {},
   "outputs": [],
   "source": [
    "LS_hi = (DD_hi - 2 * DR_hi + RR_hi) / RR_hi\n",
    "LS_lo = (DD_lo - 2 * DR_lo + RR_lo) / RR_lo"
   ]
  },
  {
   "cell_type": "code",
   "execution_count": null,
   "id": "c98bd365",
   "metadata": {},
   "outputs": [],
   "source": [
    "plt.plot(rs, LS_hi, \"o\", label=\"LS integral, NGC\")\n",
    "plt.plot(rs, LS_lo, \"o\", label=\"LS integral, SGC\")\n",
    "plt.loglog()\n",
    "plt.legend()"
   ]
  },
  {
   "cell_type": "code",
   "execution_count": null,
   "id": "00cbbc1b",
   "metadata": {},
   "outputs": [],
   "source": []
  }
 ],
 "metadata": {
  "kernelspec": {
   "display_name": "Python 3 (ipykernel)",
   "language": "python",
   "name": "python3"
  },
  "language_info": {
   "codemirror_mode": {
    "name": "ipython",
    "version": 3
   },
   "file_extension": ".py",
   "mimetype": "text/x-python",
   "name": "python",
   "nbconvert_exporter": "python",
   "pygments_lexer": "ipython3",
   "version": "3.9.12"
  }
 },
 "nbformat": 4,
 "nbformat_minor": 5
}
