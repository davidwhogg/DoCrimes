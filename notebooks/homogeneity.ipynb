{
 "cells": [
  {
   "cell_type": "markdown",
   "id": "d3e558d7",
   "metadata": {},
   "source": [
    "# Tests of cosmic homogeneity\n",
    "This notebook is part of the *DoCrimes* project <https://github.com/davidwhogg/DoCrimes>.\n",
    "\n",
    "## Authors\n",
    "- **David W. Hogg** (NYU) (MPIA) (Flatiron)\n",
    "\n",
    "## License\n",
    "- This code is licensed for re-use under the open-source *MIT License*. See the file `LICENSE` for more information.\n",
    "\n",
    "## To-do items and bugs:\n",
    "- Don't display the fractal-dimension-related pair counts as a function of sky hemisphere (it adds nothing to split it).\n",
    "- Put error bars of some kind on the points in the plots.\n",
    "- Make a quantitative estimate of the fractal dimension.\n",
    "- Switch to a color scheme that is good in black-and-white."
   ]
  },
  {
   "cell_type": "code",
   "execution_count": null,
   "id": "789882e9",
   "metadata": {},
   "outputs": [],
   "source": [
    "import numpy as np\n",
    "from scipy.spatial import KDTree\n",
    "from astropy.io import fits\n",
    "from astropy.table import QTable\n",
    "from astropy import units as u\n",
    "from astropy.coordinates import SkyCoord\n",
    "from astropy.cosmology import Planck18\n",
    "import pylab as plt"
   ]
  },
  {
   "cell_type": "code",
   "execution_count": null,
   "id": "d9353a72",
   "metadata": {},
   "outputs": [],
   "source": [
    "rng = np.random.default_rng(17)"
   ]
  },
  {
   "cell_type": "code",
   "execution_count": null,
   "id": "eba1ae6d",
   "metadata": {},
   "outputs": [],
   "source": [
    "# print(plt.rcParams.keys())\n",
    "plt.rcParams['lines.markeredgecolor'] = 'none'\n",
    "plt.rcParams['figure.figsize'] = [8.0, 4.0]"
   ]
  },
  {
   "cell_type": "code",
   "execution_count": null,
   "id": "16091bed",
   "metadata": {},
   "outputs": [],
   "source": [
    "datafd = fits.open(\"../data/gaia_G20.0.fits\") # note terrible file path\n",
    "data_table = QTable(datafd[1].data)\n",
    "print(len(data_table))"
   ]
  },
  {
   "cell_type": "code",
   "execution_count": null,
   "id": "ca6c0057",
   "metadata": {},
   "outputs": [],
   "source": [
    "print(data_table.colnames)"
   ]
  },
  {
   "cell_type": "code",
   "execution_count": null,
   "id": "0d272239",
   "metadata": {},
   "outputs": [],
   "source": [
    "randfd = fits.open(\"../data/random_stardustm1064_G20.0_10x.fits\") # note terrible file path\n",
    "rand_table = QTable(randfd[1].data)\n",
    "print(len(rand_table))"
   ]
  },
  {
   "cell_type": "code",
   "execution_count": null,
   "id": "ba30e046",
   "metadata": {},
   "outputs": [],
   "source": [
    "# cut everything by the dust map\n",
    "ebvlim = 0.05\n",
    "Id = data_table['ebv'] < ebvlim\n",
    "data_table = data_table[Id]\n",
    "Ir = rand_table['ebv'] < ebvlim\n",
    "rand_table = rand_table[Ir]"
   ]
  },
  {
   "cell_type": "code",
   "execution_count": null,
   "id": "dfb52736",
   "metadata": {},
   "outputs": [],
   "source": [
    "# Add l, b to the random catalog.\n",
    "# WARNING: This might be inconsistent with how l, b are calculated in the data table.\n",
    "randc = SkyCoord(ra=rand_table['ra']*u.degree, dec=rand_table['dec']*u.degree, frame='icrs')\n",
    "rand_table['l'] = randc.galactic.l.to(u.deg).value\n",
    "rand_table['b'] = randc.galactic.b.to(u.deg).value"
   ]
  },
  {
   "cell_type": "code",
   "execution_count": null,
   "id": "010df0c5",
   "metadata": {},
   "outputs": [],
   "source": [
    "# make two hemsisphere samples\n",
    "dhi, dlo = data_table['b'] > 0., data_table['b'] < 0.\n",
    "rhi, rlo = rand_table['b'] > 0., rand_table['b'] < 0."
   ]
  },
  {
   "cell_type": "code",
   "execution_count": null,
   "id": "4a631422",
   "metadata": {},
   "outputs": [],
   "source": [
    "scatterkwargs = {'marker':'o',\n",
    "                 's': 0.2,\n",
    "                 'alpha':0.5, \n",
    "                 'edgecolors': 'none',\n",
    "                }\n",
    "for I in [dhi, dlo]:\n",
    "    plt.scatter(data_table['ra'][I], data_table['dec'][I],\n",
    "                **scatterkwargs)\n",
    "plt.xlim(0, 360)\n",
    "plt.ylim(-90, 90)\n",
    "plt.xlabel(\"RA (deg)\")\n",
    "plt.ylabel(\"Dec (deg)\")\n",
    "plt.title(\"sky distribution\")\n",
    "dpi = 300\n",
    "plt.savefig(\"radec.png\", dpi=dpi)\n",
    "\n",
    "plot_rhi, plot_rlo = rhi.copy(), rlo.copy()\n",
    "plot_rhi[len(data_table):] = False\n",
    "plot_rlo[len(data_table):] = False\n",
    "plt.figure()\n",
    "for I in [plot_rhi, plot_rlo]:\n",
    "    plt.scatter(rand_table['ra'][I], rand_table['dec'][I],\n",
    "                **scatterkwargs)\n",
    "plt.xlim(0, 360)\n",
    "plt.ylim(-90, 90)\n",
    "plt.xlabel(\"RA (deg)\")\n",
    "plt.ylabel(\"Dec (deg)\")"
   ]
  },
  {
   "cell_type": "code",
   "execution_count": null,
   "id": "5d6410f0",
   "metadata": {},
   "outputs": [],
   "source": [
    "for I in [dhi, dlo]:\n",
    "    plt.scatter(data_table['l'][I] * np.pi / 180., np.sin(data_table['b'][I] * np.pi / 180.),\n",
    "                **scatterkwargs)\n",
    "plt.ylim(-1, 1)\n",
    "plt.xlim(0, np.pi)\n",
    "plt.xlabel(\"Galactic longitude (rad)\")\n",
    "plt.ylabel(\"sine of Galactic latitude\")\n",
    "plt.title(\"data\")\n",
    "plt.savefig(\"lb.png\", dpi=dpi)\n",
    "\n",
    "plt.figure()\n",
    "for I in [plot_rhi, plot_rlo]:\n",
    "    plt.scatter(rand_table['l'][I] * np.pi / 180., np.sin(rand_table['b'][I] * np.pi / 180.),\n",
    "                **scatterkwargs)\n",
    "plt.ylim(-1, 1)\n",
    "plt.xlim(0, np.pi)\n",
    "plt.xlabel(\"Galactic longitude (rad)\")\n",
    "plt.ylabel(\"sine of Galactic latitude\")\n",
    "plt.title(\"a sampling of the random catalog\")\n",
    "plt.savefig(\"lb_random.png\")"
   ]
  },
  {
   "cell_type": "code",
   "execution_count": null,
   "id": "da80f4b9",
   "metadata": {},
   "outputs": [],
   "source": [
    "def hogg_sky_plot(data, title, Is, **kwargs):\n",
    "    \"\"\"\n",
    "    ## inputs:\n",
    "    - `data`: table that must contain `l` longitudes in deg and `b` latitudes in deg.\n",
    "    - `title`: plot title\n",
    "    - `Is` : a list of boolean indices that index the data.\n",
    "    - `**kwargs`: passed to scatter.\n",
    "    \n",
    "    ## bugs:\n",
    "    - Should probably use astropy units.\n",
    "    \"\"\"\n",
    "    xoff = np.sqrt(2.)\n",
    "    def _project(ls, bs, xoff):\n",
    "        thetas = ls\n",
    "        rs = np.sqrt(2. - 2. * np.sin(np.abs(bs)))\n",
    "        return (rs * np.cos(thetas) + xoff) * np.sign(bs), rs * np.sin(thetas)\n",
    "    def _plot_grid(ax, xoff, fontdict=None):\n",
    "        # make background\n",
    "        ls1 = np.arange(0., 1.0001, 0.001) * np.pi\n",
    "        ls2 = 2. * np.pi - ls1\n",
    "        bs = np.zeros_like(ls1) + 0.0001 * np.pi\n",
    "        for sign in (1., -1.):\n",
    "            xs, ys1 = _project(ls1, sign * bs, xoff)\n",
    "            _,  ys2 = _project(ls2, sign * bs, xoff)\n",
    "            ax.fill_between(xs, ys1, ys2, color=\"w\", zorder=-np.Inf)\n",
    "        # make l grid\n",
    "        bs = np.array([0.5, 0.1, 0.0001]) * np.pi\n",
    "        for l in np.arange(0, 359, 30).astype(int):\n",
    "            ls = np.zeros_like(bs) + l * np.pi / 180.\n",
    "            for sign in (1., -1.):\n",
    "                xs, ys = _project(ls, sign * bs, xoff)\n",
    "                ax.plot(xs, ys, \"k-\", lw=0.5, alpha=0.5)\n",
    "                if fontdict is not None:\n",
    "                    lstr = \"{}\".format(l)\n",
    "                    ax.text(xs[-2], ys[-2], lstr, fontdict=fontdict)\n",
    "        # make b grid\n",
    "        ls = np.arange(0., 360.01, 1.) * np.pi / 180.\n",
    "        for b in (10, 30, 50, 70):\n",
    "            bs = np.zeros_like(ls) + b * np.pi / 180.\n",
    "            for sign in (1., -1.):\n",
    "                xs, ys = _project(ls, sign * bs, xoff)\n",
    "                ax.plot(xs, ys, \"k-\", lw=0.5, alpha=0.5)\n",
    "                if fontdict is not None:\n",
    "                    bstr = \"{}\".format(b)\n",
    "                    ax.text(xs[285], ys[285], bstr, fontdict=fontdict)\n",
    "    xs, ys = _project(data['l'] * np.pi / 180., data['b'] * np.pi / 180., xoff)\n",
    "    fig = plt.figure()\n",
    "    ax = plt.Axes(fig, [0., 0., 1., 1.])\n",
    "    ax.set_axis_off()\n",
    "    fig.add_axes(ax)\n",
    "    for I in Is:\n",
    "        ax.scatter(xs[I], ys[I], **kwargs)\n",
    "    labeldict = {'fontsize': 8,\n",
    "                 'fontweight': 1,\n",
    "                 'verticalalignment': 'center',\n",
    "                 'horizontalalignment': 'center',\n",
    "                 'alpha': 0.5}\n",
    "    _plot_grid(ax, xoff, labeldict)\n",
    "    ax.set_xlim(-2 * xoff, 2 * xoff)\n",
    "    ax.set_ylim(-xoff, xoff)\n",
    "    ax.set_aspect('equal', adjustable='box')\n",
    "    titledict = {'fontsize': plt.rcParams['axes.titlesize'],\n",
    "                 'fontweight': plt.rcParams['axes.titleweight'],\n",
    "                 'verticalalignment': 'top',\n",
    "                 'horizontalalignment': 'center'}\n",
    "    ax.text(0., 1.35, title, fontdict=titledict)\n",
    "    return fig"
   ]
  },
  {
   "cell_type": "code",
   "execution_count": null,
   "id": "f6e4f0ba",
   "metadata": {},
   "outputs": [],
   "source": [
    "fig = hogg_sky_plot(data_table, \"data\",\n",
    "                    [dhi, dlo], **scatterkwargs)\n",
    "fig.savefig(\"lb_better.png\", dpi=dpi, bbox_inches=\"tight\")\n",
    "fig = hogg_sky_plot(rand_table, \"a sampling of the random catalog\",\n",
    "                    [plot_rhi, plot_rlo], **scatterkwargs)\n",
    "fig.savefig(\"lb_random_better.png\", dpi=dpi, bbox_inches=\"tight\")"
   ]
  },
  {
   "cell_type": "code",
   "execution_count": null,
   "id": "7d9df2e8",
   "metadata": {},
   "outputs": [],
   "source": [
    "factor = len(data_table) / len(rand_table)"
   ]
  },
  {
   "cell_type": "code",
   "execution_count": null,
   "id": "2f9d80ec",
   "metadata": {},
   "outputs": [],
   "source": [
    "bins = np.arange(0., 4.501, 0.1)\n",
    "bincntrs = 0.5 * (bins[1:] + bins[:-1])\n",
    "binwids = (bins[1:] - bins[:-1])\n",
    "nzhi, _ = np.histogram(data_table['redshift_spz'][dhi], bins)\n",
    "nzhi = nzhi.astype(float) / (np.sum(rhi) * factor) / binwids\n",
    "nzlo, _ = np.histogram(data_table['redshift_spz'][dlo], bins)\n",
    "nzlo = nzlo.astype(float) / (np.sum(rlo) * factor) / binwids"
   ]
  },
  {
   "cell_type": "code",
   "execution_count": null,
   "id": "b99f512f",
   "metadata": {},
   "outputs": [],
   "source": [
    "stepkwargs = {'alpha': 0.8,\n",
    "              'where': 'mid',\n",
    "             }\n",
    "plt.axhline(0., color=\"k\", lw = 0.5, alpha=0.5)\n",
    "plt.step(bincntrs, nzhi, label=\"NGC\", **stepkwargs)\n",
    "plt.step(bincntrs, nzlo, label=\"SGC\", **stepkwargs)\n",
    "plt.legend()\n",
    "plt.xlim(0., 4.5)\n",
    "plt.xlabel(\"spz redshift\")\n",
    "plt.ylabel(\"fraction per unit redshift\")\n",
    "plt.title(\"redshift distribution\")\n",
    "plt.savefig(\"zhist.png\", dpi=dpi)"
   ]
  },
  {
   "cell_type": "code",
   "execution_count": null,
   "id": "2c3a8b96",
   "metadata": {},
   "outputs": [],
   "source": [
    "# Give the random points redshifts.\n",
    "rand_table['redshift_spz'] = rng.choice(data_table['redshift_spz'],\n",
    "                                        size=len(rand_table), replace=True)"
   ]
  },
  {
   "cell_type": "code",
   "execution_count": null,
   "id": "0a5b61ce",
   "metadata": {},
   "outputs": [],
   "source": [
    "# Get comoving LOS distances.\n",
    "# This could be sped up if we noted that many redshifts are repeated!\n",
    "data_table['comoving_distance'] = Planck18.comoving_distance(data_table['redshift_spz']).value\n",
    "rand_table['comoving_distance'] = Planck18.comoving_distance(rand_table['redshift_spz']).value"
   ]
  },
  {
   "cell_type": "code",
   "execution_count": null,
   "id": "ad80eadd",
   "metadata": {},
   "outputs": [],
   "source": [
    "# Cartesian positions in comoving space.\n",
    "def add_xyz(table):\n",
    "    r = table['comoving_distance']\n",
    "    cb = np.cos(table['b'] * np.pi / 180.)\n",
    "    x = r * cb * np.cos(table['l'] * np.pi / 180.)\n",
    "    y = r * cb * np.sin(table['l'] * np.pi / 180.)\n",
    "    z = r * np.sin(table['b'] * np.pi / 180.)\n",
    "    table['xyz'] = np.array([x, y, z]).T\n",
    "    return\n",
    "\n",
    "add_xyz(data_table)\n",
    "add_xyz(rand_table)"
   ]
  },
  {
   "cell_type": "code",
   "execution_count": null,
   "id": "2871a21f",
   "metadata": {},
   "outputs": [],
   "source": [
    "for I in [dhi, dlo]:\n",
    "    plt.scatter(data_table['xyz'][I,0], data_table['xyz'][I,2],\n",
    "                **scatterkwargs)\n",
    "plt.gca().set_aspect('equal', adjustable='box')\n",
    "plt.xlim(-5999, 5999)\n",
    "plt.ylim(-7000, 7000)\n",
    "plt.xlabel(\"comoving x (Mpc)\")\n",
    "plt.ylabel(\"comoving z (Mpc)\")\n",
    "plt.savefig(\"cartesianxz.png\", dpi=dpi)\n",
    "plt.figure()\n",
    "for I in [dhi, dlo]:\n",
    "    plt.scatter(data_table['xyz'][I,1], data_table['xyz'][I,2],\n",
    "                **scatterkwargs)\n",
    "plt.gca().set_aspect('equal', adjustable='box')\n",
    "plt.xlim(-5999, 5999)\n",
    "plt.ylim(-7000, 7000)\n",
    "plt.xlabel(\"comoving y (Mpc)\")\n",
    "plt.ylabel(\"comoving z (Mpc)\")\n",
    "plt.savefig(\"cartesianyz.png\", dpi=dpi)"
   ]
  },
  {
   "cell_type": "code",
   "execution_count": null,
   "id": "4aee5f8c",
   "metadata": {},
   "outputs": [],
   "source": [
    "# Make trees in preparation for counting pairs.\n",
    "data_tree = KDTree(data_table['xyz'])\n",
    "dhi_tree = KDTree(data_table['xyz'][dhi])\n",
    "dlo_tree = KDTree(data_table['xyz'][dlo])\n",
    "rand_tree = KDTree(rand_table['xyz'])\n",
    "rhi_tree = KDTree(rand_table['xyz'][rhi])\n",
    "rlo_tree = KDTree(rand_table['xyz'][rlo])"
   ]
  },
  {
   "cell_type": "code",
   "execution_count": null,
   "id": "fa127683",
   "metadata": {},
   "outputs": [],
   "source": [
    "# Make DD counts (cumulative) out to various radii.\n",
    "# Note the controversial `- N` adjustments to the self-counts.\n",
    "rs = np.exp(np.arange(np.log(5.), np.log(1000.), 0.25))\n",
    "DD_hi = (dhi_tree.count_neighbors(data_tree, rs).astype(float)\n",
    "         - np.sum(dhi)) # controversial\n",
    "DD_lo = (dlo_tree.count_neighbors(data_tree, rs).astype(float)\n",
    "         - np.sum(dlo)) # controversial"
   ]
  },
  {
   "cell_type": "code",
   "execution_count": null,
   "id": "ae48c549",
   "metadata": {},
   "outputs": [],
   "source": [
    "plotkwargs = {'linestyle': 'none', 'marker': 'o', 'alpha': 0.8, }\n",
    "plt.plot(rs, DD_hi, label=\"NGC\", **plotkwargs)\n",
    "plt.plot(rs, DD_lo, label=\"SGC\", **plotkwargs)\n",
    "plt.loglog()\n",
    "plt.legend()\n",
    "plt.xlabel(\"maximum comoving pair separation (Mpc)\")\n",
    "plt.ylabel(\"cumulative number of pairs\")\n",
    "plt.title(\"pair counts\")\n",
    "plt.savefig(\"cumulativeDD.png\", dpi=dpi)"
   ]
  },
  {
   "cell_type": "code",
   "execution_count": null,
   "id": "9a7a0358",
   "metadata": {},
   "outputs": [],
   "source": [
    "# Make DR counts (symmetrically).\n",
    "DR_hi = 0.5 * factor * (dhi_tree.count_neighbors(rand_tree, rs)\n",
    "                      + rhi_tree.count_neighbors(data_tree, rs)).astype(float)\n",
    "DR_lo = 0.5 * factor * (dlo_tree.count_neighbors(rand_tree, rs)\n",
    "                      + rlo_tree.count_neighbors(data_tree, rs)).astype(float)"
   ]
  },
  {
   "cell_type": "code",
   "execution_count": null,
   "id": "4e1b149f",
   "metadata": {},
   "outputs": [],
   "source": [
    "# Make RR counts.\n",
    "# Note the controversial `- N` adjustments to the self-counts.\n",
    "# They could be avoided if there were multiple randoms cross-correlated.\n",
    "RR_hi = factor ** 2 * (rhi_tree.count_neighbors(rand_tree, rs).astype(float)\n",
    "                       - np.sum(rhi)) # controversial\n",
    "RR_lo = factor ** 2 * (rlo_tree.count_neighbors(rand_tree, rs).astype(float)\n",
    "                       - np.sum(rlo)) # controversial"
   ]
  },
  {
   "cell_type": "code",
   "execution_count": null,
   "id": "d5af3ecd",
   "metadata": {},
   "outputs": [],
   "source": [
    "# Now turn the cumulative counts into differential counts\n",
    "dDD_hi = DD_hi[1:] - DD_hi[:-1]\n",
    "dDD_lo = DD_lo[1:] - DD_lo[:-1]\n",
    "dDR_hi = DR_hi[1:] - DR_hi[:-1]\n",
    "dDR_lo = DR_lo[1:] - DR_lo[:-1]\n",
    "dRR_hi = RR_hi[1:] - RR_hi[:-1]\n",
    "dRR_lo = RR_lo[1:] - RR_lo[:-1]\n",
    "rcs = np.exp(0.5 * (np.log(rs[1:]) + np.log(rs[:-1])))"
   ]
  },
  {
   "cell_type": "code",
   "execution_count": null,
   "id": "8c1a1a95",
   "metadata": {},
   "outputs": [],
   "source": [
    "LS_hi = (dDD_hi - 2 * dDR_hi + dRR_hi) / dRR_hi\n",
    "LS_lo = (dDD_lo - 2 * dDR_lo + dRR_lo) / dRR_lo"
   ]
  },
  {
   "cell_type": "code",
   "execution_count": null,
   "id": "774e0758",
   "metadata": {},
   "outputs": [],
   "source": [
    "plt.axhline(0., color=\"k\", lw=0.5, alpha=0.5)\n",
    "plt.plot(rcs, LS_hi, label=\"NGC\", **plotkwargs)\n",
    "plt.plot(rcs, LS_lo, label=\"SGC\", **plotkwargs)\n",
    "plt.loglog()\n",
    "plt.legend()\n",
    "plt.xlim(5., 1000.)\n",
    "plt.xlabel(\"comoving pair separation (Mpc)\")\n",
    "plt.ylabel(\"L-S correlation-function estimate\")\n",
    "plt.title(\"auto-correlation function\")\n",
    "plt.savefig(\"corrfunc.png\", dpi=dpi)"
   ]
  },
  {
   "cell_type": "code",
   "execution_count": null,
   "id": "098070b4",
   "metadata": {},
   "outputs": [],
   "source": []
  }
 ],
 "metadata": {
  "kernelspec": {
   "display_name": "Python 3 (ipykernel)",
   "language": "python",
   "name": "python3"
  },
  "language_info": {
   "codemirror_mode": {
    "name": "ipython",
    "version": 3
   },
   "file_extension": ".py",
   "mimetype": "text/x-python",
   "name": "python",
   "nbconvert_exporter": "python",
   "pygments_lexer": "ipython3",
   "version": "3.9.12"
  }
 },
 "nbformat": 4,
 "nbformat_minor": 5
}
