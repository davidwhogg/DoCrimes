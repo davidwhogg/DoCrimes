{
 "cells": [
  {
   "cell_type": "code",
   "execution_count": null,
   "id": "db88ae21",
   "metadata": {},
   "outputs": [],
   "source": [
    "import numpy as np\n",
    "from scipy.spatial import KDTree\n",
    "from astropy.io import fits\n",
    "import pylab as plt"
   ]
  },
  {
   "cell_type": "code",
   "execution_count": null,
   "id": "f9fb99e7",
   "metadata": {},
   "outputs": [],
   "source": [
    "datafd = fits.open(\"../data/gaia_G20.0.fits\") # note terrible file path\n",
    "data_table = datafd[1].data\n",
    "print(len(data_table))"
   ]
  },
  {
   "cell_type": "code",
   "execution_count": null,
   "id": "7167cffa",
   "metadata": {},
   "outputs": [],
   "source": [
    "randfd = fits.open(\"../data/random_stardustm1064_G20.0_10x.fits\") # note terrible file path\n",
    "rand_table = randfd[1].data\n",
    "print(len(rand_table))"
   ]
  },
  {
   "cell_type": "code",
   "execution_count": null,
   "id": "d829370b",
   "metadata": {},
   "outputs": [],
   "source": [
    "plt.scatter(data_table['ra'], data_table['dec'], marker=\".\", s=0.1, alpha=0.1)"
   ]
  },
  {
   "cell_type": "code",
   "execution_count": null,
   "id": "83e6cb42",
   "metadata": {},
   "outputs": [],
   "source": []
  }
 ],
 "metadata": {
  "kernelspec": {
   "display_name": "Python 3 (ipykernel)",
   "language": "python",
   "name": "python3"
  },
  "language_info": {
   "codemirror_mode": {
    "name": "ipython",
    "version": 3
   },
   "file_extension": ".py",
   "mimetype": "text/x-python",
   "name": "python",
   "nbconvert_exporter": "python",
   "pygments_lexer": "ipython3",
   "version": "3.9.12"
  }
 },
 "nbformat": 4,
 "nbformat_minor": 5
}
