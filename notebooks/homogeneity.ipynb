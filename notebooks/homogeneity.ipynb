{
 "cells": [
  {
   "cell_type": "code",
   "execution_count": null,
   "id": "abe2841d",
   "metadata": {},
   "outputs": [],
   "source": [
    "import numpy as np\n",
    "from scipy.spatial import KDTree\n",
    "from astropy.io import fits\n",
    "from astropy.table import QTable\n",
    "from astropy import units as u\n",
    "from astropy.coordinates import SkyCoord\n",
    "import pylab as plt"
   ]
  },
  {
   "cell_type": "code",
   "execution_count": null,
   "id": "a611998c",
   "metadata": {},
   "outputs": [],
   "source": [
    "datafd = fits.open(\"../data/gaia_G20.0.fits\") # note terrible file path\n",
    "data_table = datafd[1].data\n",
    "print(len(data_table))"
   ]
  },
  {
   "cell_type": "code",
   "execution_count": null,
   "id": "7cfa2d61",
   "metadata": {},
   "outputs": [],
   "source": [
    "randfd = fits.open(\"../data/random_stardustm1064_G20.0_10x.fits\") # note terrible file path\n",
    "rand_table = QTable(randfd[1].data)\n",
    "print(len(rand_table))"
   ]
  },
  {
   "cell_type": "code",
   "execution_count": null,
   "id": "39ef0135",
   "metadata": {},
   "outputs": [],
   "source": [
    "# cut everything by the dust map\n",
    "ebvlim = 0.05\n",
    "Id = data_table['ebv'] < ebvlim\n",
    "data_table = data_table[Id]\n",
    "Ir = rand_table['ebv'] < ebvlim\n",
    "rand_table = rand_table[Ir]"
   ]
  },
  {
   "cell_type": "code",
   "execution_count": null,
   "id": "c68bbcba",
   "metadata": {},
   "outputs": [],
   "source": [
    "plt.scatter(data_table['ra'], data_table['dec'], marker=\".\", s=0.1, alpha=0.1)\n",
    "plt.figure()\n",
    "plt.scatter(rand_table['ra'], rand_table['dec'], marker=\".\", s=0.1, alpha=0.1)"
   ]
  },
  {
   "cell_type": "code",
   "execution_count": null,
   "id": "83d5c327",
   "metadata": {},
   "outputs": [],
   "source": [
    "# Add l, b to the random catalog.\n",
    "# WARNING: This might be inconsistent with how l, b are calculated in the data table.\n",
    "randc = SkyCoord(ra=rand_table['ra']*u.degree, dec=rand_table['dec']*u.degree, frame='icrs')\n",
    "rand_table['l'] = randc.galactic.l.to(u.deg).value\n",
    "rand_table['b'] = randc.galactic.b.to(u.deg).value"
   ]
  },
  {
   "cell_type": "code",
   "execution_count": null,
   "id": "9df43f01",
   "metadata": {},
   "outputs": [],
   "source": [
    "dhi, dlo = data_table['b'] > 0., data_table['b'] < 0.\n",
    "for I in [dhi, dlo]:\n",
    "    plt.scatter(data_table['l'][I], np.sin(data_table['b'][I] * np.pi / 180.),\n",
    "                marker=\".\", s=0.1, alpha=0.1)\n",
    "plt.figure()\n",
    "rhi, rlo = rand_table['b'] > 0., rand_table['b'] < 0.\n",
    "for I in [rhi, rlo]:\n",
    "    plt.scatter(rand_table['l'][I], np.sin(rand_table['b'][I] * np.pi / 180.),\n",
    "                marker=\".\", s=0.1, alpha=0.1)"
   ]
  },
  {
   "cell_type": "code",
   "execution_count": null,
   "id": "633def55",
   "metadata": {},
   "outputs": [],
   "source": [
    "factor = len(data_table) / len(rand_table)\n",
    "bins = np.arange(0., 4.501, 0.1)\n",
    "bincntrs = 0.5 * (bins[1:] + bins[:-1])\n",
    "binwids = (bins[1:] - bins[:-1])\n",
    "nzhi, _ = np.histogram(data_table['redshift_spz'][dhi], bins)\n",
    "nzhi = nzhi.astype(float) / (np.sum(rhi) * factor) / binwids\n",
    "nzlo, _ = np.histogram(data_table['redshift_spz'][dlo], bins)\n",
    "nzlo = nzlo.astype(float) / (np.sum(rlo) * factor) / binwids"
   ]
  },
  {
   "cell_type": "code",
   "execution_count": null,
   "id": "a2d4b22e",
   "metadata": {},
   "outputs": [],
   "source": [
    "plt.plot(bincntrs, nzhi, \"o\")\n",
    "plt.plot(bincntrs, nzlo, \"o\")"
   ]
  },
  {
   "cell_type": "code",
   "execution_count": null,
   "id": "8cefad77",
   "metadata": {},
   "outputs": [],
   "source": []
  }
 ],
 "metadata": {
  "kernelspec": {
   "display_name": "Python 3 (ipykernel)",
   "language": "python",
   "name": "python3"
  },
  "language_info": {
   "codemirror_mode": {
    "name": "ipython",
    "version": 3
   },
   "file_extension": ".py",
   "mimetype": "text/x-python",
   "name": "python",
   "nbconvert_exporter": "python",
   "pygments_lexer": "ipython3",
   "version": "3.9.12"
  }
 },
 "nbformat": 4,
 "nbformat_minor": 5
}
